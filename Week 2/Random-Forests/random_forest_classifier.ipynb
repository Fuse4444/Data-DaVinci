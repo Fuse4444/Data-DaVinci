{
 "cells": [
  {
   "cell_type": "code",
   "execution_count": 1,
   "metadata": {},
   "outputs": [],
   "source": [
    "from sklearn.datasets import load_iris\n",
    "from sklearn.tree import DecisionTreeClassifier\n",
    "from sklearn.model_selection import train_test_split\n",
    "import pandas as pd\n",
    "import numpy as np\n",
    "\n",
    "# Using a popular classification library\n",
    "iris = load_iris()\n",
    "data = pd.DataFrame(data=iris.data, columns=iris.feature_names)\n",
    "data['species'] = iris.target"
   ]
  },
  {
   "cell_type": "code",
   "execution_count": 16,
   "metadata": {},
   "outputs": [],
   "source": [
    "class RandomForestClassifier:\n",
    "    def __init__(self, n_estimators: int = 10, max_depth: int = 5, min_samples_leaf: int = 3, max_features: int | None = None):\n",
    "        self.n_estimators = n_estimators # Number of decision trees\n",
    "        self.max_depth = max_depth # Max depth of each decision tree\n",
    "        self.min_samples_leaf = min_samples_leaf # Min samples for a node to be declared as a leaf\n",
    "        self.max_features = max_features # Optional input which restricts the max number of features a tree can be trained on\n",
    "        self.trees: list = [] # Stores the trees and corresponding features used\n",
    "\n",
    "\n",
    "    def fit(self, X: np.ndarray, y: np.ndarray) -> None:\n",
    "         self.trees = [] # Initializing an empty list\n",
    "         n_samples, n_features = X.shape\n",
    "         self.max_features = self.max_features or int(np.sqrt(n_features)) # If no value is given, reverts to default (sqrt)\n",
    "         indices = np.random.choice(n_samples, size=n_samples, replace=True)\n",
    "         X_sample = X[indices]\n",
    "         y_sample = y[indices]\n",
    "\n",
    "            # Randomly select a subset of features\n",
    "         feature_indices = np.random.choice(n_features, size=self.max_features, replace=False)\n",
    "         X_sample_subfeatures = X_sample[:, feature_indices]\n",
    "\n",
    "            # Train the decision tree\n",
    "         tree = DecisionTreeClassifier(max_depth=self.max_depth, min_samples_leaf=self.min_samples_leaf)\n",
    "         tree.fit(X_sample_subfeatures, y_sample)\n",
    "\n",
    "            # Store the tree and the selected feature indices\n",
    "         self.trees.append((tree, feature_indices))\n",
    "\n",
    "    def predict(self, X: np.ndarray) -> np.ndarray:     \n",
    "         predictions = []\n",
    "         for tree, feature_indices in self.trees:\n",
    "            X_subset = X[:, feature_indices]\n",
    "            predictions.append(tree.predict(X_subset))\n",
    "            predictions = np.array(predictions)\n",
    "            majority_vote = np.apply_along_axis(lambda x: np.bincount(x).argmax(), axis=0, arr=predictions)\n",
    "         return majority_vote"
   ]
  },
  {
   "cell_type": "code",
   "execution_count": 17,
   "metadata": {},
   "outputs": [],
   "source": [
    "model = RandomForestClassifier(n_estimators=10, max_depth=5, min_samples_leaf=3, max_features=2)\n",
    "\n",
    "# Prepare the dataset\n",
    "X = iris.data\n",
    "y = iris.target"
   ]
  },
  {
   "cell_type": "code",
   "execution_count": 29,
   "metadata": {},
   "outputs": [
    {
     "name": "stdout",
     "output_type": "stream",
     "text": [
      "Your model has an accuracy of 96.66666666666667%.\n"
     ]
    }
   ],
   "source": [
    "X_train, X_test, y_train, y_test = train_test_split(X, y, test_size=0.2, random_state=42)\n",
    "model.fit(X_train, y_train)\n",
    "\n",
    "y_pred = model.predict(X_test)\n",
    "accuracy = np.mean(y_pred == y_test)\n",
    "print(f\"Your model has an accuracy of {100 * accuracy}%.\")"
   ]
  }
 ],
 "metadata": {
  "kernelspec": {
   "display_name": "venv",
   "language": "python",
   "name": "python3"
  },
  "language_info": {
   "codemirror_mode": {
    "name": "ipython",
    "version": 3
   },
   "file_extension": ".py",
   "mimetype": "text/x-python",
   "name": "python",
   "nbconvert_exporter": "python",
   "pygments_lexer": "ipython3",
   "version": "3.12.3"
  }
 },
 "nbformat": 4,
 "nbformat_minor": 2
}
