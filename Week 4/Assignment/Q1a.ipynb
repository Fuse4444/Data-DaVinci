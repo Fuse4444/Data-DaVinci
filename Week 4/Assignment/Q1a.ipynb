{
 "cells": [
  {
   "cell_type": "code",
   "execution_count": 4,
   "metadata": {},
   "outputs": [
    {
     "name": "stdout",
     "output_type": "stream",
     "text": [
      "Requirement already satisfied: statsmodels in /mnt/c/Users/D/Downloads/repo/git/Data-DaVinci/venv/lib/python3.12/site-packages (0.14.4)\n",
      "Requirement already satisfied: numpy<3,>=1.22.3 in /mnt/c/Users/D/Downloads/repo/git/Data-DaVinci/venv/lib/python3.12/site-packages (from statsmodels) (2.2.0)\n",
      "Requirement already satisfied: scipy!=1.9.2,>=1.8 in /mnt/c/Users/D/Downloads/repo/git/Data-DaVinci/venv/lib/python3.12/site-packages (from statsmodels) (1.14.1)\n",
      "Requirement already satisfied: pandas!=2.1.0,>=1.4 in /mnt/c/Users/D/Downloads/repo/git/Data-DaVinci/venv/lib/python3.12/site-packages (from statsmodels) (2.2.3)\n",
      "Requirement already satisfied: patsy>=0.5.6 in /mnt/c/Users/D/Downloads/repo/git/Data-DaVinci/venv/lib/python3.12/site-packages (from statsmodels) (1.0.1)\n",
      "Requirement already satisfied: packaging>=21.3 in /mnt/c/Users/D/Downloads/repo/git/Data-DaVinci/venv/lib/python3.12/site-packages (from statsmodels) (24.2)\n",
      "Requirement already satisfied: python-dateutil>=2.8.2 in /mnt/c/Users/D/Downloads/repo/git/Data-DaVinci/venv/lib/python3.12/site-packages (from pandas!=2.1.0,>=1.4->statsmodels) (2.9.0.post0)\n",
      "Requirement already satisfied: pytz>=2020.1 in /mnt/c/Users/D/Downloads/repo/git/Data-DaVinci/venv/lib/python3.12/site-packages (from pandas!=2.1.0,>=1.4->statsmodels) (2024.2)\n",
      "Requirement already satisfied: tzdata>=2022.7 in /mnt/c/Users/D/Downloads/repo/git/Data-DaVinci/venv/lib/python3.12/site-packages (from pandas!=2.1.0,>=1.4->statsmodels) (2024.2)\n",
      "Requirement already satisfied: six>=1.5 in /mnt/c/Users/D/Downloads/repo/git/Data-DaVinci/venv/lib/python3.12/site-packages (from python-dateutil>=2.8.2->pandas!=2.1.0,>=1.4->statsmodels) (1.17.0)\n"
     ]
    }
   ],
   "source": [
    "!pip install statsmodels"
   ]
  },
  {
   "cell_type": "code",
   "execution_count": 5,
   "metadata": {},
   "outputs": [],
   "source": [
    "import pandas as pd\n",
    "import numpy as np\n",
    "from sklearn.metrics import mean_absolute_error, mean_absolute_percentage_error\n",
    "from statsmodels.tsa.holtwinters import ExponentialSmoothing\n",
    "from statsmodels.tsa.arima.model import ARIMA\n",
    "from datetime import timedelta"
   ]
  },
  {
   "cell_type": "code",
   "execution_count": 6,
   "metadata": {},
   "outputs": [],
   "source": [
    "data = pd.read_csv('parkingLot.csv')\n",
    "data['timestamp']=pd.to_datetime(data['timestamp'])\n",
    "data=data.sort_values(by='timestamp')\n",
    "data = data[(data['timestamp'].dt.hour >= 5) & (data['timestamp'].dt.hour < 24)]\n",
    "entries = data[data['camera_id'] == 1]\n",
    "exits = data[data['camera_id'] == 2]\n",
    "daily_entries = entries.groupby(entries['timestamp'].dt.date).size()\n",
    "daily_entries.index = pd.to_datetime(daily_entries.index) # datatime64\n",
    "daily_entries.name = 'daily_entries'\n",
    "matched = entries.join(exits, how='inner', lsuffix='_entry', rsuffix='_exit')\n",
    "matched['time_spent'] = (matched['timestamp_exit'] - matched['timestamp_entry']).dt.total_seconds()\n",
    "daily_avg_time = matched.groupby(matched['timestamp_entry'].dt.date)['time_spent'].mean()\n",
    "daily_avg_time.index = pd.to_datetime(daily_avg_time.index)\n",
    "daily_entries = daily_entries.asfreq('D')"
   ]
  },
  {
   "cell_type": "code",
   "execution_count": 7,
   "metadata": {},
   "outputs": [
    {
     "name": "stdout",
     "output_type": "stream",
     "text": [
      "Results:\n",
      "ARIMA - MASE: 0.794, MAPE: 0.064\n",
      "ETS - MASE: 0.543, MAPE: 0.044\n"
     ]
    }
   ],
   "source": [
    "train_entries = daily_entries[:-7]\n",
    "test_entries = daily_entries[-7:]\n",
    "arima_model = ARIMA(train_entries, order=(1, 1, 1)).fit()\n",
    "arima_forecast = arima_model.forecast(steps=7)\n",
    "test_entries = test_entries.values\n",
    "arima_forecast = np.array(arima_forecast)\n",
    "mase_entries = mean_absolute_error(test_entries, arima_forecast) / train_entries.diff().abs().mean()\n",
    "mape_entries = mean_absolute_percentage_error(test_entries, arima_forecast)\n",
    "ets_model = ExponentialSmoothing(train_entries, seasonal='add', seasonal_periods=7).fit()\n",
    "ets_forecast = ets_model.forecast(7)\n",
    "mase_ets = mean_absolute_error(test_entries, ets_forecast) / train_entries.diff().abs().mean()\n",
    "mape_ets = mean_absolute_percentage_error(test_entries, ets_forecast)\n",
    "print(\"Results:\")\n",
    "print(f\"ARIMA - MASE: {mase_entries:.3f}, MAPE: {mape_entries:.3f}\")\n",
    "print(f\"ETS - MASE: {mase_ets:.3f}, MAPE: {mape_ets:.3f}\")"
   ]
  }
 ],
 "metadata": {
  "kernelspec": {
   "display_name": "venv",
   "language": "python",
   "name": "python3"
  },
  "language_info": {
   "codemirror_mode": {
    "name": "ipython",
    "version": 3
   },
   "file_extension": ".py",
   "mimetype": "text/x-python",
   "name": "python",
   "nbconvert_exporter": "python",
   "pygments_lexer": "ipython3",
   "version": "3.12.3"
  }
 },
 "nbformat": 4,
 "nbformat_minor": 2
}
